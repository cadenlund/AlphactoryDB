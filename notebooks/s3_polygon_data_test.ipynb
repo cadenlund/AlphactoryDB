{
 "cells": [
  {
   "cell_type": "code",
   "execution_count": 2,
   "id": "e6fc3e72-ea3e-4212-b7cb-45a51aaf1007",
   "metadata": {},
   "outputs": [],
   "source": [
    "import boto3 #Amazon AWS Python SDK\n",
    "from botocore.config import Config #Config for SDK\n",
    "from dotenv import load_dotenv # Load .ENV file containing protected information\n",
    "import os # Ability to manage and access neigboring files "
   ]
  },
  {
   "cell_type": "code",
   "execution_count": null,
   "id": "d8eb67cc-ad0d-4c5f-a2d7-8a340f882fff",
   "metadata": {},
   "outputs": [],
   "source": []
  }
 ],
 "metadata": {
  "kernelspec": {
   "display_name": "Python 3 (ipykernel)",
   "language": "python",
   "name": "python3"
  },
  "language_info": {
   "codemirror_mode": {
    "name": "ipython",
    "version": 3
   },
   "file_extension": ".py",
   "mimetype": "text/x-python",
   "name": "python",
   "nbconvert_exporter": "python",
   "pygments_lexer": "ipython3",
   "version": "3.11.11"
  }
 },
 "nbformat": 4,
 "nbformat_minor": 5
}
