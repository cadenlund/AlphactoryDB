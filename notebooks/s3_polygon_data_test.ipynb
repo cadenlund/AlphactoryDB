{
 "cells": [
  {
   "cell_type": "code",
   "execution_count": 3,
   "id": "e6fc3e72-ea3e-4212-b7cb-45a51aaf1007",
   "metadata": {},
   "outputs": [],
   "source": [
    "import boto3 #Amazon AWS Python SDK\n",
    "from botocore.config import Config #Config for SDK\n",
    "from dotenv import load_dotenv # Load .ENV file containing protected information\n",
    "import os # Ability to manage and access neigboring files "
   ]
  },
  {
   "cell_type": "code",
   "execution_count": 4,
   "id": "d8eb67cc-ad0d-4c5f-a2d7-8a340f882fff",
   "metadata": {},
   "outputs": [],
   "source": [
    "# Make the environment variables available to python from the .env file\n",
    "load_dotenv()\n",
    "# Load the environment variables into python variables\n",
    "ACCESS_KEY = os.getenv(\"5dbb0279-347a-4da5-bc7d-2c7ac3469c5d\")\n",
    "SECRET_KEY = os.getenv(\"U_pA24Q8GNggjBBfi2AKJBvhrpyGKPBd\")"
   ]
  },
  {
   "cell_type": "code",
   "execution_count": 6,
   "id": "3b2e2e56-7aff-4b0c-a5fd-811223183779",
   "metadata": {},
   "outputs": [],
   "source": [
    "# Initialize a session using the AWS keys\n",
    "session = boto3.Session( # Session object used to configure users and environment control\n",
    "    aws_access_key_id=ACCESS_KEY,\n",
    "    aws_secret_access_key=SECRET_KEY,\n",
    ")"
   ]
  },
  {
   "cell_type": "code",
   "execution_count": 7,
   "id": "1a1cc006-48ed-437a-b387-e6207ec2c7c5",
   "metadata": {},
   "outputs": [],
   "source": [
    "# Create a client with session and speficy the endpoint (where the data is located)\n",
    "s3 = session.client(\n",
    "    's3', # Connecting to the S3 (Simple Storage Service) specifically (can connect to any aws service here)\n",
    "    endpoint_url='https://files.polygon.io', # Base url for the service you want to access\n",
    "    config=Config(signature_version='s3v4'), # Ensures client is using AWS signature Version 4 protocol by prohibiting api requests unless supplied with\n",
    "                                             # a secret key. Used for hashsing\n",
    ")\n",
    "# The previous code is everything needed to "
   ]
  },
  {
   "cell_type": "code",
   "execution_count": null,
   "id": "32059842-ab37-482b-9da9-198a82bebde2",
   "metadata": {},
   "outputs": [],
   "source": []
  }
 ],
 "metadata": {
  "kernelspec": {
   "display_name": "Python 3 (ipykernel)",
   "language": "python",
   "name": "python3"
  },
  "language_info": {
   "codemirror_mode": {
    "name": "ipython",
    "version": 3
   },
   "file_extension": ".py",
   "mimetype": "text/x-python",
   "name": "python",
   "nbconvert_exporter": "python",
   "pygments_lexer": "ipython3",
   "version": "3.11.11"
  }
 },
 "nbformat": 4,
 "nbformat_minor": 5
}
