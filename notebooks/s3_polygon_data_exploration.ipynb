{
 "cells": [
  {
   "cell_type": "code",
   "execution_count": 1,
   "id": "e6fc3e72-ea3e-4212-b7cb-45a51aaf1007",
   "metadata": {},
   "outputs": [],
   "source": [
    "import boto3 #Amazon AWS Python SDK\n",
    "from botocore.config import Config #Config for SDK\n",
    "from dotenv import load_dotenv # Load .ENV file containing protected information\n",
    "import os # Ability to manage and access neigboring files "
   ]
  },
  {
   "cell_type": "code",
   "execution_count": 2,
   "id": "d8eb67cc-ad0d-4c5f-a2d7-8a340f882fff",
   "metadata": {},
   "outputs": [],
   "source": [
    "# Make the environment variables available to python from the .env file\n",
    "load_dotenv()\n",
    "# Load the environment variables into python variables\n",
    "ACCESS_KEY = os.getenv(\"\")\n",
    "SECRET_KEY = os.getenv(\"\")"
   ]
  },
  {
   "cell_type": "code",
   "execution_count": 3,
   "id": "3b2e2e56-7aff-4b0c-a5fd-811223183779",
   "metadata": {},
   "outputs": [],
   "source": [
    "# Initialize a session using the AWS keys\n",
    "session = boto3.Session( # Session object used to configure users and environment control\n",
    "    aws_access_key_id=ACCESS_KEY,\n",
    "    aws_secret_access_key=SECRET_KEY,\n",
    ")"
   ]
  },
  {
   "cell_type": "code",
   "execution_count": 4,
   "id": "1a1cc006-48ed-437a-b387-e6207ec2c7c5",
   "metadata": {},
   "outputs": [],
   "source": [
    "# Create a client with session and speficy the endpoint (where the data is located)\n",
    "s3 = session.client(\n",
    "    's3', # Connecting to the S3 (Simple Storage Service) specifically (can connect to any aws service here)\n",
    "    endpoint_url='https://files.polygon.io', # Base url for the service you want to access\n",
    "    config=Config(signature_version='s3v4'), # Ensures client is using AWS signature Version 4 protocol by prohibiting api requests unless supplied with\n",
    "                                             # a secret key. Used for hashsing\n",
    ")\n",
    "# The previous code is everything needed to accesss the S3 flatfiles, from here you can use commands like list objects or get objects"
   ]
  },
  {
   "cell_type": "code",
   "execution_count": 5,
   "id": "32059842-ab37-482b-9da9-198a82bebde2",
   "metadata": {},
   "outputs": [],
   "source": [
    "# Initialize a paginator for listing objects\n",
    "paginator = s3.get_paginator('list_objects_v2')"
   ]
  },
  {
   "cell_type": "markdown",
   "id": "73d92d8a-8d2b-43e2-94fd-c4e8f14fc85e",
   "metadata": {},
   "source": [
    "## 🌐 Understanding Requests and Paginators in S3 (Conceptual Overview)\n",
    "\n",
    "### 📤 What is a Request?\n",
    "\n",
    "A **request** is a single operation sent from your client (e.g., Python code) to a server (e.g., AWS S3 or Polygon’s S3-compatible endpoint). For example, when you ask to list files in a folder-like structure in a bucket, that is a request.\n",
    "\n",
    "S3’s `list_objects_v2` request returns a maximum of 1000 objects (files) at a time. If more files exist, it only returns the first \"page\" and indicates that more data is available.\n",
    "\n",
    "---\n",
    "\n",
    "### 🔁 What is a Paginator?\n",
    "\n",
    "A **paginator** is a built-in tool provided by `boto3` that automatically handles repeated requests when the response is paginated. \n",
    "\n",
    "Instead of manually tracking continuation tokens and sending new requests, the paginator transparently performs this for you. It lets you iterate over all the data as if it were returned in one big response.\n",
    "\n",
    "---\n",
    "\n",
    "### 🪣 S3 Paginators Specifically\n",
    "\n",
    "S3 paginators are used to retrieve more than 1000 files (objects) from a bucket. You create a paginator specifically for the `list_objects_v2` operation, which is the improved version of the original S3 listing API.\n",
    "\n",
    "The paginator handles:\n",
    "- Sending the first request\n",
    "- Detecting if the result is truncated (chopped off)\n",
    "- Sending follow-up requests with the continuation token\n",
    "- Returning each full page of results one after the other\n",
    "\n",
    "---\n",
    "\n",
    "### 📌 Key Parameters Used with S3 Paginators\n",
    "\n",
    "- **Bucket**: The name of the S3 bucket you are querying.\n",
    "- **Prefix**: A folder-like path that limits the results to objects that begin with that string.\n",
    "- **Delimiter** (optional): Used to group files as if they were in folders (commonly set to `/`).\n",
    "- **PaginationConfig** (optional): Allows advanced control, like page size or starting from a specific point.\n",
    "\n",
    "---\n",
    "\n",
    "### ✅ Summary\n",
    "\n",
    "- A **request** retrieves a single chunk of data from S3.\n",
    "- A **paginator** automates multiple requests so you can work with large datasets easily.\n",
    "- S3 paginators are essential when listing more than 1000 files in a bucket or folder-like structure.\n"
   ]
  }
 ],
 "metadata": {
  "kernelspec": {
   "display_name": "Python 3 (ipykernel)",
   "language": "python",
   "name": "python3"
  },
  "language_info": {
   "codemirror_mode": {
    "name": "ipython",
    "version": 3
   },
   "file_extension": ".py",
   "mimetype": "text/x-python",
   "name": "python",
   "nbconvert_exporter": "python",
   "pygments_lexer": "ipython3",
   "version": "3.11.11"
  }
 },
 "nbformat": 4,
 "nbformat_minor": 5
}
